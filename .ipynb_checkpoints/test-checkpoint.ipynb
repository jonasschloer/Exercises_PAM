{
 "cells": [
  {
   "cell_type": "code",
   "execution_count": null,
   "metadata": {
    "vscode": {
     "languageId": "julia"
    }
   },
   "outputs": [],
   "source": [
    "# Define a function to calculate the factorial of a number\n",
    "function factorial(n::Int)\n",
    "    if n == 0\n",
    "        return 1\n",
    "    else\n",
    "        return n * factorial(n - 1)\n",
    "    end\n",
    "end\n",
    "\n",
    "# Main block to call the factorial function and print the result\n",
    "function main()\n",
    "    number = 5\n",
    "    println(\"The factorial of $number is $(factorial(number))\")\n",
    "end\n",
    "\n",
    "# Call the main function\n",
    "main()"
   ]
  }
 ],
 "metadata": {
  "language_info": {
   "name": "python"
  }
 },
 "nbformat": 4,
 "nbformat_minor": 2
}
