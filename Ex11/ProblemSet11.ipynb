{
 "cells": [
  {
   "cell_type": "markdown",
   "id": "25872069-4290-4a55-a72d-5e56e0e14d93",
   "metadata": {},
   "source": []
  },
  {
   "cell_type": "markdown",
   "id": "26e264e6-492e-4d4a-b1e6-f2679277c514",
   "metadata": {},
   "source": [
    "## Pre Task --- JuliAccel.jl\n",
    "\n",
    "- [ ] Make sure the path given to the activate function leads to the JuliAccel.jl Folder on your system.\n",
    "- [ ] Make sure the files \"pam-11.japd\" and \"pam-11.mad\" are in the same location as this notebook\n",
    "- [ ] run the cells in the Pre Task. The last cell should give you a positive message, if everything is fine.\n",
    "\n",
    "___\n",
    "\n",
    "CAN USE DISPERSION parameters with matrices if use 0s in between. Propagate just like $\\xi$ "
   ]
  },
  {
   "cell_type": "code",
   "execution_count": 1,
   "id": "58aafee6-ef8c-4552-84f9-90b1c31bb811",
   "metadata": {},
   "outputs": [
    {
     "name": "stderr",
     "output_type": "stream",
     "text": [
      "\u001b[32m\u001b[1m  Activating\u001b[22m\u001b[39m project at `~/Polybox/ETH/ParticleAcceleratorModelling/juliaccel.jl`\n",
      "\u001b[36m\u001b[1m[ \u001b[22m\u001b[39m\u001b[36m\u001b[1mInfo: \u001b[22m\u001b[39mPrecompiling JuliAccel [8ecd692a-d9ab-4959-bc05-54a93604e2a1] \n",
      "\u001b[36m\u001b[1m[ \u001b[22m\u001b[39m\u001b[36m\u001b[1mInfo: \u001b[22m\u001b[39mPrecompiling Plots [91a5bcdd-55d7-5caf-9e0b-520d859cae80] \n",
      "\u001b[36m\u001b[1m[ \u001b[22m\u001b[39m\u001b[36m\u001b[1mInfo: \u001b[22m\u001b[39mPrecompiling SpecialFunctionsExt [997ecda8-951a-5f50-90ea-61382e97704b] (cache misses: wrong dep version loaded (2))\n",
      "\u001b[36m\u001b[1m[ \u001b[22m\u001b[39m\u001b[36m\u001b[1mInfo: \u001b[22m\u001b[39mPrecompiling UnitfulExt [0e51ec96-f580-5f12-a625-1297083d7970] (cache misses: wrong dep version loaded (2))\n",
      "\u001b[36m\u001b[1m[ \u001b[22m\u001b[39m\u001b[36m\u001b[1mInfo: \u001b[22m\u001b[39mPrecompiling IJuliaExt [2f4121a4-3b3a-5ce6-9c5e-1f2673ce168a] (cache misses: wrong dep version loaded (2))\n"
     ]
    },
    {
     "name": "stdout",
     "output_type": "stream",
     "text": [
      "Done!\n",
      "Done!\n"
     ]
    }
   ],
   "source": [
    "import Pkg\n",
    "Pkg.activate(\"../../juliaccel.jl/\")\n",
    "using JuliAccel\n",
    "using LaTeXStrings\n",
    "using Plots\n",
    "using ProgressBars\n",
    "using Dates\n",
    "\n",
    "# =======================================================================\n",
    "\n",
    "# VARIABLES\n",
    "\n",
    "# Initial coordinates\n",
    "ξi = [1.0, 0.0, 0.0, 0.0, 0.0, 0.0]\n",
    "\n",
    "# Beamline data files\n",
    "# TODO make sure they are downloaded and in the same folder as the notbook!\n",
    "mad  = \"pam-11.mad\"\n",
    "prob = \"pam-11.japd\"\n",
    "\n",
    "# PROBLEM DEFINITION\n",
    "\n",
    "#print(\"Defining problem... \")\n",
    "\n",
    "# Compute maps\n",
    "#Ms  = gen_maps(mad, prob, symplectic=true)\n",
    "\n",
    "println(\"Done!\")"
   ]
  },
  {
   "cell_type": "code",
   "execution_count": null,
   "id": "c6e6d6f1-0b62-4a73-b82f-a4113a5947d7",
   "metadata": {},
   "outputs": [],
   "source": [
    "mad_parsed = JuliAccel.parse_madx(mad)\n",
    "\n",
    "prob_set = JuliAccel.extract_model_data(prob)\n",
    "\n",
    "ekin = mad_parsed.beam[\"energy\"]\n",
    "particle = (mad_parsed.beam[\"particle\"] == \"electron\") ? Electron() : Proton()\n",
    "\n",
    "γ = get_gamma(ekin, particle.mass)\n",
    "β0 = get_beta(γ)\n",
    "c = 3e8\n",
    "\n",
    "P0 = γ * β0 * particle.mass/c # *1e6#/c\n",
    "\n",
    "\n",
    "### Checking your setup\n",
    "\n",
    "if(prob_set.hamiltonians[1][\"type\"]== \"drift\" && mad_parsed.lattice[1][\"type\"] == \"drift\")\n",
    "    println(\"Your set up should be fine! Good luck with the exercise sheet\")\n",
    "else\n",
    "    println(\"WARNING!!! Something seems to be wrong with your setup. Please, check the Pre-Task steps and maybe problem set 7\")\n",
    "end\n"
   ]
  },
  {
   "cell_type": "code",
   "execution_count": null,
   "id": "c7e224e6-3d79-4800-bd50-af587e77bcd1",
   "metadata": {},
   "outputs": [],
   "source": [
    "### Creation of a initial bunch\n",
    "\n",
    "N_part = 1000 # number of particles\n",
    "\n",
    "μ = [0.0, 0.0, 0.0, 0.0, 0.0, 0.0]\n",
    "Σ = [16.0 0.0 0.0 0.0 0.0 0.0;\n",
    "     0.0 1.0 0.0 0.0 0.0 0.0;\n",
    "     0.0 0.0 16.0 0.0 0.0 0.0;\n",
    "     0.0 0.0 0.0 1.0 0.0 0.0;\n",
    "     0.0 0.0 0.0 0.0 0.709 0.0;\n",
    "     0.0 0.0 0.0 0.0 0.0 0.0981]\n",
    "\n",
    "D = Gaussian(μ, Σ)\n",
    "\n",
    "Γi = gen_distribution(D, N_part)\n"
   ]
  },
  {
   "cell_type": "markdown",
   "id": "237d6402-7905-4245-af78-516b4ff3612a",
   "metadata": {},
   "source": [
    "# Task 2\n",
    "\n",
    "The goal of the task is to analyse the collider given in the `mad` file and find the best location to place a RF cavity for acceleration.\n",
    "\n"
   ]
  },
  {
   "cell_type": "markdown",
   "id": "1dcf4c37-edeb-4ce3-bafc-6dee4cea8a19",
   "metadata": {},
   "source": [
    "## Task 2.1 \n",
    "\n",
    "- [ ] Add the `sbend` element to the japd file *Hint: you have to mention l in the arg list if it is used in the Hamiltonion expression*"
   ]
  },
  {
   "cell_type": "code",
   "execution_count": null,
   "id": "244d34f1-775a-4fc8-b774-95625690dd52",
   "metadata": {},
   "outputs": [],
   "source": [
    "## TODO in Japd file"
   ]
  },
  {
   "cell_type": "code",
   "execution_count": null,
   "id": "039ae3e7-9b57-4af8-ad36-a68cb3825b01",
   "metadata": {},
   "outputs": [],
   "source": [
    "# PROBLEM DEFINITION\n",
    "\n",
    "print(\"Defining problem... \")\n",
    "\n",
    "# Compute maps\n",
    "Ms  = gen_maps(mad, prob, symplectic=true)\n",
    "\n",
    "println(\"Done!\")\n",
    "\n"
   ]
  },
  {
   "cell_type": "code",
   "execution_count": null,
   "id": "6e9c1ab3-c041-40f2-bdd2-7f5de6f9a60e",
   "metadata": {},
   "outputs": [],
   "source": []
  },
  {
   "cell_type": "markdown",
   "id": "a2a5e221-e0b4-4c82-bf0d-5be4486727b2",
   "metadata": {},
   "source": [
    "## Task 2.2\n",
    "\n",
    "Track the dispersion with the following initial values.\n",
    "$$\\begin{pmatrix}D_x \\\\ D_{p_x} \\\\ 1 \\end{pmatrix}\n",
    "            =\\begin{pmatrix} 0.5069938765 \\\\ −0.1681363086 \\\\ 1\\end{pmatrix}$$\n",
    "\n",
    "- [ ] Write a function or code that tracks the dispersion.\n",
    "- [ ] Plot the dispersion through the collider track\n",
    "- [ ] find the ranges of zero dispersion in which a RF cavity could be placed"
   ]
  },
  {
   "cell_type": "code",
   "execution_count": null,
   "id": "160b8ef3-962a-4948-b82e-b35755f3a391",
   "metadata": {},
   "outputs": [],
   "source": [
    "initial_dispersion = [0.5069938765, -0.1681363086, 1]"
   ]
  },
  {
   "cell_type": "code",
   "execution_count": null,
   "id": "8667cc9f-1dba-4d4a-b632-fbac11f35adf",
   "metadata": {},
   "outputs": [],
   "source": [
    "## TODO Track dispresion "
   ]
  },
  {
   "cell_type": "code",
   "execution_count": null,
   "id": "eef2d57c-c673-4388-ac9e-64f9fcc9c9f3",
   "metadata": {},
   "outputs": [],
   "source": [
    "## TODO plot the dispresion"
   ]
  },
  {
   "cell_type": "code",
   "execution_count": null,
   "id": "24600e76-ecfa-42ad-8a2d-156e400ceb8d",
   "metadata": {},
   "outputs": [],
   "source": [
    "## TODO find dispersion < 1e-3"
   ]
  },
  {
   "cell_type": "markdown",
   "id": "ea0eee2f-3b95-486e-ae5c-fd0a16ebd343",
   "metadata": {},
   "source": [
    "## Task 2.3\n",
    "\n",
    "You are given a RF Cavity with $\\hat{V} = 0.001$ MV, $\\phi = 0$ and $f_{rf} = 10^{-4}$ MHz and its transfer matrix\n",
    "\n",
    "$$\n",
    "R =\n",
    "\\begin{pmatrix}\n",
    "1 & 0 & 0 & 0 & 0 & 0 \\\\\n",
    "0 & 1 & 0 & 0 & 0 & 0 \\\\\n",
    "0 & 0 & 1 & 0 & 0 & 0 \\\\\n",
    "0 & 0 & 0 & 1 & 0 & 0 \\\\\n",
    "0 & 0 & 0 & 0 & 1 & 0 \\\\\n",
    "0 & 0 & 0 & 0 & -\\frac{1}{f_{||}} & 1 \\\\\n",
    "\\end{pmatrix},\n",
    "$$\n",
    "where\n",
    "$$\n",
    "\\frac{1}{f_{||}} = \\frac{q\\hat{V}}{P_0c}k\\cos\\phi_0,\n",
    "$$\n",
    "with voltage $\\hat{V}$, $k=2\\pi f_{RF}/c$ where $f_{RF}$ is the RF frequency, and $\\phi_0$ the RF phase.\n",
    "\n",
    "\n",
    "- [ ] Place a thin RF Cavity in the middle of the areas identified in Task 2.2 (Either using the Hamiltonian or the linear map in slices of Ms)\n",
    "- [ ] Propagate the bunch through this track\n",
    "- [ ] calcualate the Energy change\n",
    "\n",
    "$$\n",
    "\\Delta W = |q|\\hat{V}T\\cos(\\phi_0),\n",
    "$$\n",
    "with voltage $\\hat{V}$, charge $q$, RF phase $\\phi_0$ and transit time factor\n",
    "$$\n",
    "T = \\frac{2\\beta_0}{\\pi}\\sin\\left(\\frac{\\pi}{2\\beta_0}\\right).\n",
    "$$\n"
   ]
  },
  {
   "cell_type": "code",
   "execution_count": null,
   "id": "ab158d8c-3341-401c-87f5-d763e41b2d67",
   "metadata": {},
   "outputs": [],
   "source": [
    "## TODO include the RF Cavity in Ms or write function for its effect on the beam"
   ]
  },
  {
   "cell_type": "code",
   "execution_count": null,
   "id": "a503aa10-2403-4b0c-b81c-9536f7b21f1d",
   "metadata": {},
   "outputs": [],
   "source": [
    "## TODO Propagate a bunch "
   ]
  },
  {
   "cell_type": "code",
   "execution_count": null,
   "id": "f8104b3e-67ae-43eb-96c4-6a892788e8cd",
   "metadata": {},
   "outputs": [],
   "source": [
    "## TODO calculate the energy change (can be pen and pencil)"
   ]
  },
  {
   "cell_type": "code",
   "execution_count": null,
   "id": "ab44f611-e02b-401c-b0a6-be527e179bb1",
   "metadata": {},
   "outputs": [],
   "source": []
  }
 ],
 "metadata": {
  "kernelspec": {
   "display_name": "Julia 1.11.1",
   "language": "julia",
   "name": "julia-1.11"
  },
  "language_info": {
   "file_extension": ".jl",
   "mimetype": "application/julia",
   "name": "julia",
   "version": "1.11.1"
  }
 },
 "nbformat": 4,
 "nbformat_minor": 5
}
