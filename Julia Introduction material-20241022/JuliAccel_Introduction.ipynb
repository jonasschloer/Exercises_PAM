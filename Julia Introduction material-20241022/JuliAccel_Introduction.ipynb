{
 "cells": [
  {
   "cell_type": "markdown",
   "id": "d4aa0c6e-1a55-4d7d-bd6c-94a8cf91c454",
   "metadata": {},
   "source": [
    "# Introduction to JuliAccel"
   ]
  },
  {
   "cell_type": "markdown",
   "id": "2538f1c8-b46f-4c80-ab96-0f3f62d937b8",
   "metadata": {},
   "source": [
    "## Get current version of JuliAccel.jl\n",
    "\n",
    "### Clone the Git repository\n",
    "\n",
    " [ETHZ-gitlab/JuliAccel.jl](https://www.gitlab.ethz.ch/heinekas/juliaccel.jl)\n",
    "\n",
    "### Build package\n",
    "\n",
    "Then build the package. And install all the necessary JuliaPackages. The simpliest is from the command line running the following commands: (Make sure you put in the correct directory)\n",
    "\n",
    "```\n",
    "> julia \n",
    "\n",
    "julia> ]\n",
    "pkg> activate /home/data/PAM/juliaccel.jl ## depends on your path\n",
    "output>>>Activating project at `/home/data/ETH/HS24/PAM/juliaccel.jl`\n",
    "pkg> instantiate\n",
    "....\n",
    "pkg> build\n",
    "\n",
    "```\n",
    "Watch out to not create a _new_ project when activating. This means you did not use the correct path."
   ]
  },
  {
   "cell_type": "markdown",
   "id": "eb00fbdd-eabb-4637-8cd6-3eb5b8f5640e",
   "metadata": {},
   "source": [
    "## Load juliAccel.jl in Notebook"
   ]
  },
  {
   "cell_type": "code",
   "execution_count": null,
   "id": "ee71cf3f-abf8-4fe9-905f-60910d05858d",
   "metadata": {},
   "outputs": [],
   "source": [
    "# TODO: use the correct path for your system\n",
    "import Pkg\n",
    "Pkg.activate(\"../juliaccel.jl/\")"
   ]
  },
  {
   "cell_type": "markdown",
   "id": "446247a8-2b07-4da6-a789-e18306001052",
   "metadata": {},
   "source": [
    "## Basic simulation using Mad and Japd Files\n",
    "\n",
    "The default way to use JuliAccel.jl is to define lattice in a .mad file and the used elements in a .japd file.\n",
    "\n",
    "### Mad file\n",
    "\n",
    "Defines the lattice of your accelerator. It uses the same file format as the Mad-x simulator.\n",
    "\n",
    "elements \n",
    "\n",
    "segmenents and full lattice\n",
    "\n",
    "beam\n",
    "\n",
    "\n",
    "\n",
    "### Japd file\n",
    "\n",
    "Contains a definiton of problem variables and a library of lattice element definitions including the element Hamiltonians.\n",
    "\n",
    "__The variable definition__ definies the variables the simulation is tracking. For the typical 6-vector this is:\n",
    "\n",
    "```\n",
    "variables = (x, px, y, py, z, δ);\n",
    "```\n",
    "\n",
    "or in a simualtion that tracks only the transversal plane:\n",
    "\n",
    "```\n",
    "variables = (x, px, y, py);\n",
    "```\n",
    "\n",
    "In addition to the variables, one needs to define the truncation and expension orders.\n",
    "\n",
    "```\n",
    "orders, trunc_order = 2, exp_order = 2, order = 3;\n",
    "```\n",
    "\n",
    "\n",
    "__The elements__ are defined by a name (type), a list of parameters (args) and the hamiltonian (expr). For example for a drift space this is: \n",
    "\n",
    "```\n",
    "hamiltonian, type = drift, args = (), expr = δ/β0 - sqrt((1/β0+δ)^2 - px^2 - py^2 - 1/(β0*γ0)^2);\n",
    "```\n",
    "\n",
    "### gen_maps Function\n",
    "\n",
    "Reads in the given Mad and Japd files and returns an Array containing maps for the full lattice.\n",
    "\n",
    "```\n",
    "Ms  = JuliAccel.gen_maps(mad, prob, symplectic=true)\n",
    "```\n"
   ]
  },
  {
   "cell_type": "markdown",
   "id": "9aa9c0c6-09c5-440a-861c-e03774c831e9",
   "metadata": {},
   "source": [
    "## Example using the Mad and Japd files"
   ]
  },
  {
   "cell_type": "code",
   "execution_count": null,
   "id": "b8708a14-17d3-460e-ab2c-778e7ad5edc3",
   "metadata": {},
   "outputs": [],
   "source": [
    "### A basic setup\n",
    "\n",
    "\n",
    "print(\"Importing packages... \")\n",
    "\n",
    "\n",
    "using JuliAccel\n",
    "\n",
    "using Plots\n",
    "using ProgressBars\n",
    "\n",
    "using Dates\n",
    "\n",
    "println(\"Done!\")\n",
    "\n",
    "\n",
    "# =======================================================================\n",
    "\n",
    "# VARIABLES\n",
    "\n",
    "# Initial coordinates\n",
    "ξi = [1.0, 0.5, 0.0, 0.0, 0.0, 0.0]\n",
    "\n",
    "\n",
    "# Dragt-Finn factorise?\n",
    "symp = true\n",
    "\n",
    "\n",
    "# Beamline data files\n",
    "# TODO make sure they are downloaded and in the same folder as the notbook!\n",
    "mad  = \"sample.mad\"\n",
    "prob = \"sample.japd\"\n",
    "\n",
    "\n",
    "\n",
    "# PROBLEM DEFINITION\n",
    "\n",
    "print(\"Defining problem... \")\n",
    "\n",
    "# Compute maps\n",
    "Ms  = JuliAccel.gen_maps(mad, prob, symplectic=symp)\n",
    "\n",
    "println(\"Done!\")\n",
    "\n"
   ]
  },
  {
   "cell_type": "code",
   "execution_count": null,
   "id": "f61e5d94-6293-42e1-8067-4f8cebef1dfc",
   "metadata": {},
   "outputs": [],
   "source": []
  },
  {
   "cell_type": "markdown",
   "id": "978f8526-8107-4ddd-903a-43a5c176e343",
   "metadata": {},
   "source": [
    "## Looking at components\n"
   ]
  },
  {
   "cell_type": "code",
   "execution_count": null,
   "id": "a81cea90-5946-4d53-8e96-8c43d3635d41",
   "metadata": {},
   "outputs": [],
   "source": [
    "mad_parsed = JuliAccel.parse_madx(mad)\n"
   ]
  },
  {
   "cell_type": "code",
   "execution_count": null,
   "id": "ac3eff87-4c56-4b9d-8aae-a735c18a4695",
   "metadata": {},
   "outputs": [],
   "source": [
    "prob_set = JuliAccel.extract_model_data(prob)"
   ]
  },
  {
   "cell_type": "code",
   "execution_count": null,
   "id": "f502c898-a0b9-4010-86b8-5da72c414338",
   "metadata": {},
   "outputs": [],
   "source": [
    "Ms"
   ]
  },
  {
   "cell_type": "markdown",
   "id": "43ac0133-b3ed-4b4d-bd32-cbbb5364783c",
   "metadata": {},
   "source": [
    "## Simulation without MAD and JAPD files"
   ]
  },
  {
   "cell_type": "code",
   "execution_count": null,
   "id": "d6363cff-22f3-4f24-ba0b-fe3290a61287",
   "metadata": {},
   "outputs": [],
   "source": [
    "extract_model_data(prob)"
   ]
  },
  {
   "cell_type": "code",
   "execution_count": null,
   "id": "695080c4-4cd5-4471-95ae-922823c33dbe",
   "metadata": {},
   "outputs": [],
   "source": [
    "\n",
    "## Define beam parameters\n",
    "ekin = 9.99489e8\n",
    "particle = Electron()\n",
    "\n",
    "## Calculate parameters\n",
    "γ0 = get_gamma(ekin, particle.mass)\n",
    "β0 = get_beta(γ)\n",
    "c = 3e8\n",
    "\n",
    "P0 = γ * β0 * particle.mass/c # *1e6#/c\n",
    "\n",
    "# Truncation orders\n",
    "n1 = 3\n",
    "n2 = 6\n",
    "n_max = n2 * (n1-1) + 1\n",
    "\n",
    "## Define variables\n",
    "problem_settings = eval(:(@set_problem(\"x px y py z δ\", $n1, $n2, $n_max)))\n",
    "\n"
   ]
  },
  {
   "cell_type": "code",
   "execution_count": null,
   "id": "0c574380-9fcd-4e96-93f3-3a0ccc625fe9",
   "metadata": {},
   "outputs": [],
   "source": [
    "## Lattice\n",
    "\n",
    "## ---- drift l = 1 ---- dipol l = 0.1 ---- drift l = 1 ------\n",
    "\n",
    "l_d = 1.\n",
    "l_dp = 0.1\n",
    "h = 0.1\n",
    "k0 = particle.charge / P0 * 1\n"
   ]
  },
  {
   "cell_type": "code",
   "execution_count": null,
   "id": "b5c2fbf9-59c5-43ca-872c-b0d78d78f07c",
   "metadata": {},
   "outputs": [],
   "source": [
    "## Hamiltonians\n",
    "\n",
    "H_drift = δ/β0 - sqrt((1/β0+δ)^2 - px^2 - py^2 - 1/(β0*γ0)^2)\n",
    "H_dipol = δ/β0 - (1+ h * x) * sqrt((1/β0+δ)^2 - px^2 - py^2 - 1/(β0*γ0)^2) + (1 + 0.1 *x) * k0 *(x - (h * x^2)/(2 + 2* h *x));"
   ]
  },
  {
   "cell_type": "code",
   "execution_count": null,
   "id": "4769462e-8445-465b-8414-f89893aaa0da",
   "metadata": {},
   "outputs": [],
   "source": [
    "## generate Maps\n",
    "\n",
    "H_drift_tpse = tps_expansion!(H_drift)\n",
    "H_dipol_tpse = tps_expansion!(H_dipol);\n",
    "\n",
    "MM = [lie_transform(-l_d * H_drift_tpse, problem_settings)]\n",
    "push!(MM, lie_transform(-l_dp * H_dipol_tpse, problem_settings))\n",
    "push!(MM, lie_transform(-l_d * H_drift_tpse, problem_settings))\n"
   ]
  },
  {
   "cell_type": "markdown",
   "id": "72d86c40-478e-46d7-bdcd-158134ceaddb",
   "metadata": {},
   "source": [
    "## Propagate Particles\n",
    "\n",
    "Take the particle state vector and loop over the lattice maps"
   ]
  },
  {
   "cell_type": "code",
   "execution_count": null,
   "id": "22e0d8cd-49e7-4348-9fbb-4533e511f1d0",
   "metadata": {},
   "outputs": [],
   "source": [
    "ξ = copy(ξi)\n",
    "\n",
    "for m in MM\n",
    "    ξ = m(ξ)\n",
    "end\n",
    "\n",
    "ξ"
   ]
  },
  {
   "cell_type": "code",
   "execution_count": null,
   "id": "16070508-ce54-4c3e-920d-db1634e03625",
   "metadata": {},
   "outputs": [],
   "source": [
    "k0"
   ]
  },
  {
   "cell_type": "code",
   "execution_count": null,
   "id": "0d8c765e-0696-4836-96b0-12135af6bcee",
   "metadata": {},
   "outputs": [],
   "source": []
  }
 ],
 "metadata": {
  "kernelspec": {
   "display_name": "Julia 1.9.3",
   "language": "julia",
   "name": "julia-1.9"
  },
  "language_info": {
   "file_extension": ".jl",
   "mimetype": "application/julia",
   "name": "julia",
   "version": "1.11.0"
  }
 },
 "nbformat": 4,
 "nbformat_minor": 5
}
