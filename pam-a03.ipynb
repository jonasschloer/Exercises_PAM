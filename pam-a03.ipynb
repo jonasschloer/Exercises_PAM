{
 "cells": [
  {
   "cell_type": "markdown",
   "metadata": {},
   "source": [
    "# Assignment 03: Distribution generation\n",
    "\n",
    "<html>\n",
    "<div class=\"alert alert-info\" role=\"alert\" style=\"margin-top: 10px\">\n",
    "The goal of this exercise is to create some special distributions and plot the cross sections.\n",
    "</div>\n",
    "</html>"
   ]
  },
  {
   "cell_type": "code",
   "execution_count": null,
   "metadata": {
    "scrolled": true
   },
   "outputs": [],
   "source": [
    "import Pkg; Pkg.add(\"Distributions\"); Pkg.add(\"Plots\")"
   ]
  },
  {
   "cell_type": "code",
   "execution_count": null,
   "metadata": {
    "scrolled": true
   },
   "outputs": [],
   "source": [
    "using Random, Distributions, Plots\n",
    "Random.seed!(123) # Setting the seed"
   ]
  },
  {
   "cell_type": "markdown",
   "metadata": {},
   "source": [
    "## 2. Distribution generation \n",
    "### Example on generating multivariate Normal distribution\n",
    "Use the Julia package: Distribution"
   ]
  },
  {
   "cell_type": "code",
   "execution_count": null,
   "metadata": {},
   "outputs": [],
   "source": [
    "mean = [2.,3.] # array\n",
    "Cov = [0.2 0; 0 0.3] # matrix\n",
    "D = MvNormal(mean, Cov) # multi-variate normal distribution\n",
    "N = 1000 # int\n",
    "bunch = rand(D, N) # sampling according to distribution"
   ]
  },
  {
   "cell_type": "markdown",
   "metadata": {},
   "source": [
    "Do a scatter plot"
   ]
  },
  {
   "cell_type": "code",
   "execution_count": null,
   "metadata": {},
   "outputs": [],
   "source": [
    "gr() # grid as background\n",
    "plot(bunch[1,:], bunch[2,:], seriestype = :scatter) # scatter plot, index start from 1"
   ]
  },
  {
   "cell_type": "markdown",
   "metadata": {},
   "source": [
    "### K-V distribution\n",
    "\n",
    "Under K-V (Kapchinkij-Valdimirskij) distribution, particles uniformly populate the surface of a hyper-ellipsoid in 4D phase-space\n",
    "\\begin{equation}\n",
    "\\rho(x, p_x, y, p_y) = \\frac{ne}{\\pi^2ab\\epsilon_x\\epsilon_y}\\delta\\left(\\frac{x^2}{a^2}+\\frac{y^2}{b^2}+\\frac{a^2p_x^2}{\\epsilon_x^2}+\\frac{b^2p_y^2}{\\epsilon_y^2}-1\\right)\n",
    "\\end{equation}\n",
    "- $\\rho$ is the charge density\n",
    "- $n$ is the number of particles per unit $z$ length (i.e. the number of particles for the volume $\\pi ab \\times 1$, where $\\pi ab$ is the transverse beam area, $1$ is the unit $z$ length)\n",
    "- $e$ is the particle's charge\n",
    "- $a$ and $b$ are envelop radii of the beam. For simplicity, here we set $a=b=\\epsilon_x=\\epsilon_y=1$ and $x'= p_x/x, y'=p_y/y$., i.e. the ellipsoid becomes a sphere: $$ x^2+y^2+x'^2+y'^2=1$$\n",
    "The state vector of a particle (in 4D phase space) is defined by\n",
    "$$\\zeta =\n",
    "\\begin{pmatrix}\n",
    "x & [mm] \\\\ x' & [mrad] \\\\ y & [mm]\\\\ y' & [mrad]\n",
    "\\end{pmatrix}$$\n",
    "\n",
    "Generating samples following a given distribtion is the [Inverse transform sampling](https://en.wikipedia.org/wiki/Inverse_transform_sampling) problem."
   ]
  },
  {
   "cell_type": "markdown",
   "metadata": {},
   "source": [
    "<html>\n",
    "<div class=\"alert alert-warning\" role=\"alert\" style=\"background-color:rgba(255, 0, 0, 0.6);\n",
    "                                         margin-top:10px;\n",
    "                                         color:white;\n",
    "                                         border-color:rgba(255, 0, 0, 0.3)\">\n",
    "<strong>TODO:</strong> We start from the 3D sphere case: Define a function that generates N particles on the surface of a 3D sphere, i.e. $x^2 + y^2 + z^2 = R^2$.\n",
    "</div>\n",
    "</html>"
   ]
  },
  {
   "cell_type": "markdown",
   "metadata": {},
   "source": [
    "#### Method 1: Inverse transform with the polar coordinates $R, \\theta, \\phi$.\n",
    "\n",
    "Inverse transform sampling: if $X$ is a continuous random variable with cumulative distribution function (CDF) $F_{X} = p(X \\leq x)$, then the random variable $Z=F_{X}(X)$ has a uniform distribution on $[0, 1]$.\n",
    "Proof:\n",
    "\n",
    "$$ F_Z(z) = p(0 \\leq Z \\leq z) = p(F_X(x) \\leq z) = p(x \\leq F_X^{-1}(z)) = F_X(F_X^{-1}(z)) = z $$\n",
    "\n",
    "which agrees with $Z \\sim U[0,1]$.\n",
    "\n",
    "This is the result of [Probability integral transform](https://en.wikipedia.org/wiki/Probability_integral_transform). Then we can get $X$ by $ X = F_X^{-1}(Z)$ or $F_X(X) = Z$. To write it explicitly it means\n",
    "\n",
    "$$ F_X(x) = \\int_{-\\infty}^x f(\\hat{x})d\\hat{x} = z$$\n",
    "\n",
    "\n",
    "where $f$ is the desired probability density function (PDF) of $X$. For each value $z$ sampled from $Z\\sim U[0,1]$, we can calculate the corresponding $x$ from the above relation. The collection of $x$ then follow our desired distribution. \n",
    "\n",
    "With given $R$, we need to transform two uniformly distributed random variables $z_1$ and $z_2$ (independent) into the spherical angles $\\theta$ and $\\phi$ (independent). Our desired distribution is uniform on the surface, so we need to pay attention to the surface area element $dA(\\theta,\\phi)$.\n",
    "\n",
    "![polar](polar.png)\n",
    "\n",
    "$$F_{\\Theta, \\Phi}(\\theta, \\phi) = F_{\\Theta}(\\theta)F_{\\Phi}(\\phi) = ? =  z_1z_2 $$\n",
    "\n",
    "The goal is to express $\\theta$ and $\\phi$ using $z_1$ and $z_2$."
   ]
  },
  {
   "cell_type": "code",
   "execution_count": null,
   "metadata": {},
   "outputs": [],
   "source": [
    "function gen3DSurface(N, R)\n",
    "    # ...\n",
    "end"
   ]
  },
  {
   "cell_type": "markdown",
   "metadata": {},
   "source": [
    "<html>\n",
    "<div class=\"alert alert-warning\" role=\"alert\" style=\"background-color:rgba(255, 0, 0, 0.6);\n",
    "                                         margin-top:10px;\n",
    "                                         color:white;\n",
    "                                         border-color:rgba(255, 0, 0, 0.3)\">\n",
    "<strong>TODO:</strong>\n",
    "   <ul>\n",
    "    <li>Generate a distribution of 1000 particles.</li>\n",
    "    <li>Plot the $(x,y)$ cross section.</li>\n",
    "    <li>*Bonus: You can also make a 3D plot of the sphere.</li>\n",
    "   </ul>\n",
    "</div>\n",
    "</html>"
   ]
  },
  {
   "cell_type": "code",
   "execution_count": null,
   "metadata": {},
   "outputs": [],
   "source": [
    "N = 1000\n",
    "\n",
    "#scatter(...)"
   ]
  },
  {
   "cell_type": "markdown",
   "metadata": {},
   "source": [
    "#### Method 2: Multivariate Gaussian\n",
    "\n",
    "<html>\n",
    "<div class=\"alert alert-warning\" role=\"alert\" style=\"background-color:rgba(255, 0, 0, 0.6);\n",
    "                                         margin-top:10px;\n",
    "                                         color:white;\n",
    "                                         border-color:rgba(255, 0, 0, 0.3)\">\n",
    "<strong>TODO:</strong>\n",
    "   <ul>\n",
    "    <li>Solve the same 3D sphere problem with the Multivariate Gaussian method showed in hint slides.\n",
    "       Plot the $(x,y)$ cross section.</li>\n",
    "    <li>*Bonus: The multivariate Gaussian method is actually extentable towards dimensions higher than 3. Try the 4D sphere.</li>\n",
    "   </ul>\n",
    "</div>\n",
    "</html>"
   ]
  },
  {
   "cell_type": "code",
   "execution_count": null,
   "metadata": {},
   "outputs": [],
   "source": [
    "function gen3DSurfaceGaussian(N,R)\n",
    "    #...\n",
    "end"
   ]
  },
  {
   "cell_type": "code",
   "execution_count": null,
   "metadata": {},
   "outputs": [],
   "source": [
    "#scatter..."
   ]
  },
  {
   "cell_type": "code",
   "execution_count": null,
   "metadata": {},
   "outputs": [],
   "source": [
    "function gen4DSurfaceGaussian(N,R)\n",
    "    #...\n",
    "end"
   ]
  },
  {
   "cell_type": "markdown",
   "metadata": {},
   "source": [
    "### Waterbag distribution\n",
    "\n",
    "Under waterbag distribution, particles uniformly fill the 4D hyper-ellispoid in phase-space\n",
    "\\begin{align*}\n",
    "\\rho(x,y,x',y') &= \\frac{2ne}{\\pi^2a^4} \\\\\n",
    "x^2+y^2+x'^2+y'^2 &\\leq a^2\n",
    "\\end{align*}\n",
    "While $\\rho$ is the charge density, the probability density of particles is thus\n",
    "$$f(x,y,x',y') = \\frac{2}{\\pi^2 a^4}$$\n",
    "with $\\frac{\\pi^2 a^4}{2}$ the volume of a 4D hyper sphere of radius $a$."
   ]
  },
  {
   "cell_type": "markdown",
   "metadata": {},
   "source": [
    "<html>\n",
    "<div class=\"alert alert-warning\" role=\"alert\" style=\"background-color:rgba(255, 0, 0, 0.6);\n",
    "                                         margin-top:10px;\n",
    "                                         color:white;\n",
    "                                         border-color:rgba(255, 0, 0, 0.3)\">\n",
    "<strong>TODO:</strong> Define a function for the 4D case using the Monte Carlo rejection method, where we generate all variables from  (−1,1)  uniform distribution, and discard the points outside the sphere.\n",
    "</div>\n",
    "</html>"
   ]
  },
  {
   "cell_type": "code",
   "execution_count": null,
   "metadata": {},
   "outputs": [],
   "source": [
    "function gen4DBody(N,a)\n",
    "    #...\n",
    "end"
   ]
  },
  {
   "cell_type": "markdown",
   "metadata": {},
   "source": [
    "<html>\n",
    "<div class=\"alert alert-warning\" role=\"alert\" style=\"background-color:rgba(255, 0, 0, 0.6);\n",
    "                                         margin-top:10px;\n",
    "                                         color:white;\n",
    "                                         border-color:rgba(255, 0, 0, 0.3)\">\n",
    "<strong>TODO:</strong> Generate a distribution of 1000 particles and plot the $(x,y)$ phase space.\n",
    "</div>\n",
    "</html>"
   ]
  },
  {
   "cell_type": "code",
   "execution_count": null,
   "metadata": {},
   "outputs": [],
   "source": []
  },
  {
   "cell_type": "markdown",
   "metadata": {},
   "source": [
    "<html>\n",
    "<div class=\"alert alert-warning\" role=\"alert\" style=\"background-color:rgba(255, 0, 0, 0.6);\n",
    "                                         margin-top:10px;\n",
    "                                         color:white;\n",
    "                                         border-color:rgba(255, 0, 0, 0.3)\">\n",
    "<strong>TODO:</strong>*Bonus: transformation method for 3D case\n",
    "</div>\n",
    "</html>\n",
    "\n",
    "Again let's reduce to the 3D sphere case: generate N uniform 3D samples inside sphere $x^2+y^2+z^2 \\leq 1$ with probability density $$f(x,y,z) = \\frac{1}{Vol} = \\frac{3}{4\\pi r^3} = \\frac{3}{4\\pi}$$\n",
    "    The goal is to get the same number of particles inside each unit volume:\n",
    "    $$dV = r^2 \\sin{\\theta}drd\\theta d\\phi$$\n",
    "![polar](polar.png)\n",
    "\n",
    "Try to transform 3 uniformly distributed random variables $z_1, z_2, z_3$ into the above coordinates."
   ]
  },
  {
   "cell_type": "code",
   "execution_count": null,
   "metadata": {},
   "outputs": [],
   "source": []
  },
  {
   "cell_type": "markdown",
   "metadata": {},
   "source": [
    "2. Derive from approximated Hamiltonian\n",
    "$$ H_2 = \\frac{1}{2}p_x^2 + \\frac{1}{2}p_y^2 + \\frac{1}{2}\\frac{\\delta^2}{\\beta_0^2\\gamma_0^2} $$"
   ]
  }
 ],
 "metadata": {
  "kernelspec": {
   "display_name": "Julia 1.8.2",
   "language": "julia",
   "name": "julia-1.8"
  },
  "language_info": {
   "file_extension": ".jl",
   "mimetype": "application/julia",
   "name": "julia",
   "version": "1.11.0"
  }
 },
 "nbformat": 4,
 "nbformat_minor": 4
}
